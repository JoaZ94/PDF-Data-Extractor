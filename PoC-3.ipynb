{
 "cells": [
  {
   "cell_type": "markdown",
   "id": "2116607b-d1f9-426c-bf01-1ca434e65822",
   "metadata": {},
   "source": [
    "# PDF Data Extractor"
   ]
  },
  {
   "cell_type": "markdown",
   "id": "126c2fcc-2013-4317-bb9b-d450387eb345",
   "metadata": {},
   "source": [
    "Este notebook permite procesar una a una la página 1 (0), 2 (1), 3 (2), 4 (3), **5 (4)**, 6 (5), 7 (6), 9 (8), 10 (9) y 11 (10) del PDF.\n",
    "\n",
    "No procesa la pagina **8 (7)**\n",
    "\n",
    "## Aclaración:\n",
    "\n",
    "Los conceptos que están en ingresos y egresos se restan y se encuentran en una única columna, lo cual genera como **ventaja** la exactitud del valor de dicho código, pero genera una **desventaja,** en el caso de requerir un análisis de los valores por conceptos de ingresos y egresos.\n",
    "\n",
    "Este código procesa desprendibles con varios conceptos diferenciadores, en este caso **COD3** y **COD4**"
   ]
  },
  {
   "cell_type": "code",
   "execution_count": 1,
   "id": "31dd3274-2f65-424d-97a0-e8ff0977019c",
   "metadata": {},
   "outputs": [],
   "source": [
    "# Importar las bibliotecas\n",
    "import fitz # pip install pymupdf\n",
    "import re\n",
    "import pandas as pd # pip install pandas\n",
    "import numpy as np # pip install numpy"
   ]
  },
  {
   "cell_type": "code",
   "execution_count": 2,
   "id": "cc081633-a81f-4d61-ba0a-698a342d9bdb",
   "metadata": {},
   "outputs": [],
   "source": [
    "pdf_file = \"Comprobantes_de_Pago.pdf\"\n",
    "\n",
    "doc = fitz.open(pdf_file) # Procesa el PDF mediante la biblioteca Pymupdf\n",
    "pos_pag = 4"
   ]
  },
  {
   "cell_type": "code",
   "execution_count": 3,
   "id": "d61927a2-dc7d-46f6-80be-65d80f4b1f87",
   "metadata": {},
   "outputs": [],
   "source": [
    "texto = doc[pos_pag].get_text() # Se obtiene los datos de una página de PDF"
   ]
  },
  {
   "cell_type": "code",
   "execution_count": 4,
   "id": "b6163b5d-620a-49b8-b9e3-74a0fb73c477",
   "metadata": {},
   "outputs": [
    {
     "name": "stdout",
     "output_type": "stream",
     "text": [
      "NOMBRE DE LA EMPRESA \n",
      " \n",
      "1000000000-1 \n",
      " \n",
      " \n",
      "Fecha \n",
      "04/12/2023 02:15:10 PM \n",
      "Comprobante de Pago \n",
      " \n",
      " \n",
      " \n",
      " \n",
      " \n",
      "Periodo de pago: 01-Nov-23  a  30-Nov-23 \n",
      " \n",
      " \n",
      " \n",
      "Comprobante de Pago \n",
      "Página 5 de 11 \n",
      " \n",
      "Nombres: \n",
      "Dennis Albaca \n",
      "Documento: \n",
      "10000004 \n",
      "Ciudad: Cali \n",
      "Sede \n",
      "Sede Norte \n",
      "Dependencia: \n",
      "Tecnología \n",
      "Cargo: \n",
      "Ingeniero \n",
      "N. Contratación: 05-2021 \n",
      "Área: \n",
      "Desarrollo \n",
      "Ingresos: \n",
      "$2,000,000 \n",
      "Capacidad de Endeudamiento: $500,000 \n",
      " \n",
      "Grado: \n",
      "1 \n",
      " \n",
      "CódConc. \n",
      "Concepto \n",
      "Cuotas \n",
      "Días \n",
      "Ingresos \n",
      "Egresos \n",
      "COD1 \n",
      "CONCEPTO NO. 1 \n",
      " \n",
      " \n",
      "100,000.00 \n",
      " \n",
      "COD2 \n",
      "CONCEPTO NO. 2 \n",
      " \n",
      " \n",
      "300,000.00 \n",
      " \n",
      "COD3 \n",
      "CONCEPTO NO. 3 \n",
      " \n",
      " \n",
      "2,000,000.00 \n",
      " \n",
      "COD5 \n",
      "CONCEPTO NO. 5 \n",
      " \n",
      " \n",
      " \n",
      "20,000.00 \n",
      "COD6 \n",
      "CONCEPTO NO. 6 \n",
      " \n",
      " \n",
      " \n",
      "10,000.00 \n",
      "COD7 \n",
      "CONCEPTO NO. 7 \n",
      " \n",
      " \n",
      " \n",
      "30,000.00 \n",
      "COD8 \n",
      "CONCEPTO NO. 8 \n",
      " \n",
      " \n",
      " \n",
      "10,000.00 \n",
      "COD3 \n",
      "CONCEPTO NO. 3 \n",
      " \n",
      " \n",
      " \n",
      "100,000.00 \n",
      "Totales: \n",
      "$2,400,000.00 \n",
      "$170,000.00 \n",
      " \n",
      "Firma \n",
      " \n",
      "10000004 Dennis Albaca \n",
      "COD Banco: Mi Banquito 1 – 141414141 – Tipo: Corriente \n",
      " \n",
      "Neto a Pagar \n",
      "$2,230,000.00\n",
      " \n",
      " \n",
      " \n",
      " \n",
      "\n"
     ]
    }
   ],
   "source": [
    "print(texto)"
   ]
  },
  {
   "cell_type": "code",
   "execution_count": 5,
   "id": "14209a45-abf6-4456-abbd-e129df7ce176",
   "metadata": {},
   "outputs": [
    {
     "data": {
      "text/plain": [
       "'NOMBRE DE LA EMPRESA \\n \\n1000000000-1 \\n \\n \\nFecha \\n04/12/2023 02:15:10 PM \\nComprobante de Pago \\n \\n \\n \\n \\n \\nPeriodo de pago: 01-Nov-23  a  30-Nov-23 \\n \\n \\n \\nComprobante de Pago \\nPágina 5 de 11 \\n \\nNombres: \\nDennis Albaca \\nDocumento: \\n10000004 \\nCiudad: Cali \\nSede \\nSede Norte \\nDependencia: \\nTecnología \\nCargo: \\nIngeniero \\nN. Contratación: 05-2021 \\nÁrea: \\nDesarrollo \\nIngresos: \\n$2,000,000 \\nCapacidad de Endeudamiento: $500,000 \\n \\nGrado: \\n1 \\n \\nCódConc. \\nConcepto \\nCuotas \\nDías \\nIngresos \\nEgresos \\nCOD1 \\nCONCEPTO NO. 1 \\n \\n \\n100,000.00 \\n \\nCOD2 \\nCONCEPTO NO. 2 \\n \\n \\n300,000.00 \\n \\nCOD3 \\nCONCEPTO NO. 3 \\n \\n \\n2,000,000.00 \\n \\nCOD5 \\nCONCEPTO NO. 5 \\n \\n \\n \\n20,000.00 \\nCOD6 \\nCONCEPTO NO. 6 \\n \\n \\n \\n10,000.00 \\nCOD7 \\nCONCEPTO NO. 7 \\n \\n \\n \\n30,000.00 \\nCOD8 \\nCONCEPTO NO. 8 \\n \\n \\n \\n10,000.00 \\nCOD3 \\nCONCEPTO NO. 3 \\n \\n \\n \\n100,000.00 \\nTotales: \\n$2,400,000.00 \\n$170,000.00 \\n \\nFirma \\n \\n10000004 Dennis Albaca \\nCOD Banco: Mi Banquito 1 – 141414141 – Tipo: Corriente \\n \\nNeto a Pagar \\n$2,230,000.00\\n \\n \\n \\n \\n'"
      ]
     },
     "metadata": {},
     "output_type": "display_data"
    }
   ],
   "source": [
    "display(texto)"
   ]
  },
  {
   "cell_type": "code",
   "execution_count": 6,
   "id": "058611ff-1199-4ef4-9852-26460e8016ae",
   "metadata": {},
   "outputs": [
    {
     "data": {
      "text/plain": [
       "'01-Nov-23  a  30-Nov-23'"
      ]
     },
     "metadata": {},
     "output_type": "display_data"
    }
   ],
   "source": [
    "pos_periodo_pago = texto.find(\"Periodo de pago\")\n",
    "pos_comprobante_pago = texto.find(\"\\nComprobante de Pago \\nP\")\n",
    "cadena_periodo_pago = texto[pos_periodo_pago + 17: pos_comprobante_pago - 7]\n",
    "display(cadena_periodo_pago)"
   ]
  },
  {
   "cell_type": "code",
   "execution_count": 7,
   "id": "6750ca0a-c316-444d-bfe4-8ec87b2f2634",
   "metadata": {},
   "outputs": [
    {
     "data": {
      "text/plain": [
       "'Nov'"
      ]
     },
     "metadata": {},
     "output_type": "display_data"
    }
   ],
   "source": [
    "mes_periodo_pago = cadena_periodo_pago[3:6]\n",
    "display(mes_periodo_pago)"
   ]
  },
  {
   "cell_type": "code",
   "execution_count": 8,
   "id": "13b91e60-e4cc-4913-98de-f282de951e94",
   "metadata": {},
   "outputs": [
    {
     "data": {
      "text/plain": [
       "'23'"
      ]
     },
     "metadata": {},
     "output_type": "display_data"
    }
   ],
   "source": [
    "anio_periodo_pago = cadena_periodo_pago[7:9]\n",
    "display(anio_periodo_pago)"
   ]
  },
  {
   "cell_type": "code",
   "execution_count": 9,
   "id": "6d22278b-8adb-428b-84f2-8dfab462c68c",
   "metadata": {},
   "outputs": [
    {
     "data": {
      "text/plain": [
       "2023"
      ]
     },
     "metadata": {},
     "output_type": "display_data"
    }
   ],
   "source": [
    "anio_periodo_pago = 2000 + int(anio_periodo_pago)\n",
    "display(anio_periodo_pago)"
   ]
  },
  {
   "cell_type": "code",
   "execution_count": 10,
   "id": "4eaee214-c590-4d47-ac21-18763b45b07c",
   "metadata": {},
   "outputs": [
    {
     "data": {
      "text/plain": [
       "'Dennis Albaca'"
      ]
     },
     "metadata": {},
     "output_type": "display_data"
    }
   ],
   "source": [
    "pos_nombre = texto.find(\"Nombres\")\n",
    "pos_documento = texto.find(\"Documento\")\n",
    "nombre_empleado = texto[pos_nombre + 10: pos_documento - 2]\n",
    "display(nombre_empleado)"
   ]
  },
  {
   "cell_type": "code",
   "execution_count": 11,
   "id": "02835314-6d82-474e-8fa7-bc770b72f6e0",
   "metadata": {},
   "outputs": [
    {
     "data": {
      "text/plain": [
       "10000004"
      ]
     },
     "metadata": {},
     "output_type": "display_data"
    }
   ],
   "source": [
    "pos_ciudad = texto.find('Ciudad')\n",
    "num_doc = int(texto[pos_documento + 12: pos_ciudad - 2])\n",
    "display(num_doc)"
   ]
  },
  {
   "cell_type": "code",
   "execution_count": 12,
   "id": "022e9d8f-b9bf-4e35-892c-3a496c2f379e",
   "metadata": {},
   "outputs": [
    {
     "data": {
      "text/plain": [
       "'Cali'"
      ]
     },
     "metadata": {},
     "output_type": "display_data"
    }
   ],
   "source": [
    "pos_sede = texto.find('Sede')\n",
    "ciudad = texto[pos_ciudad + 8: pos_sede - 2]\n",
    "display(ciudad)"
   ]
  },
  {
   "cell_type": "code",
   "execution_count": 13,
   "id": "9f3c2e9e-d1de-49f8-ba28-d7315f3e7fb2",
   "metadata": {},
   "outputs": [
    {
     "data": {
      "text/plain": [
       "'Sede Norte'"
      ]
     },
     "metadata": {},
     "output_type": "display_data"
    }
   ],
   "source": [
    "pos_dependencia = texto.find('Dependencia')\n",
    "sede = texto[pos_sede + 6: pos_dependencia - 2]\n",
    "display(sede)"
   ]
  },
  {
   "cell_type": "code",
   "execution_count": 14,
   "id": "6d5417fd-45f9-43b5-8392-31ba5ff072d7",
   "metadata": {},
   "outputs": [
    {
     "data": {
      "text/plain": [
       "'Tecnología'"
      ]
     },
     "metadata": {},
     "output_type": "display_data"
    }
   ],
   "source": [
    "pos_cargo = texto.find('Cargo')\n",
    "dependencia = texto[pos_dependencia + 14: pos_cargo - 2]\n",
    "display(dependencia)"
   ]
  },
  {
   "cell_type": "code",
   "execution_count": 15,
   "id": "61a7be07-8cfb-4b28-a9e1-a752b644f722",
   "metadata": {},
   "outputs": [
    {
     "data": {
      "text/plain": [
       "'Ingeniero'"
      ]
     },
     "metadata": {},
     "output_type": "display_data"
    }
   ],
   "source": [
    "pos_contrato = texto.find('N. Contratación')\n",
    "cargo_empleado = texto[pos_cargo + 8: pos_contrato - 2]\n",
    "display(cargo_empleado)"
   ]
  },
  {
   "cell_type": "code",
   "execution_count": 16,
   "id": "0fa7d419-ff66-4f49-918e-31aca63edc44",
   "metadata": {},
   "outputs": [
    {
     "data": {
      "text/plain": [
       "'05-2021'"
      ]
     },
     "metadata": {},
     "output_type": "display_data"
    }
   ],
   "source": [
    "pos_area = texto.find(\"Área\")\n",
    "num_contrato = texto[pos_contrato + 17: pos_area - 2]\n",
    "display(num_contrato)"
   ]
  },
  {
   "cell_type": "code",
   "execution_count": 17,
   "id": "f85649e9-ec50-42c4-996c-d4454386dee9",
   "metadata": {},
   "outputs": [
    {
     "data": {
      "text/plain": [
       "'Desarrollo'"
      ]
     },
     "metadata": {},
     "output_type": "display_data"
    }
   ],
   "source": [
    "pos_ingresos = texto.find('Ingresos')\n",
    "area = texto[pos_area + 7: pos_ingresos - 2]\n",
    "display(area)"
   ]
  },
  {
   "cell_type": "code",
   "execution_count": 18,
   "id": "4ddd307d-88f0-4cfc-8d6f-6524297122ab",
   "metadata": {},
   "outputs": [
    {
     "data": {
      "text/plain": [
       "'2,000,000'"
      ]
     },
     "metadata": {},
     "output_type": "display_data"
    }
   ],
   "source": [
    "pos_cap_endeudamiento = texto.find('Capacidad de Endeudamiento')\n",
    "ingresos = texto[pos_ingresos + 12: pos_cap_endeudamiento - 2]\n",
    "display(ingresos)"
   ]
  },
  {
   "cell_type": "code",
   "execution_count": 19,
   "id": "303473aa-a05d-4604-81c9-b21f435bcdd7",
   "metadata": {},
   "outputs": [
    {
     "data": {
      "text/plain": [
       "2000000"
      ]
     },
     "metadata": {},
     "output_type": "display_data"
    }
   ],
   "source": [
    "ingresos = int(ingresos.replace(',', ''))\n",
    "display(ingresos)"
   ]
  },
  {
   "cell_type": "code",
   "execution_count": 20,
   "id": "3a56cd51-4d2a-447b-abdd-45d1e11b49e0",
   "metadata": {},
   "outputs": [
    {
     "data": {
      "text/plain": [
       "500000"
      ]
     },
     "metadata": {},
     "output_type": "display_data"
    }
   ],
   "source": [
    "pos_grado = texto.find('Grado')\n",
    "capacidad_endeudamiento = int(texto[pos_cap_endeudamiento + 29: pos_grado -4].replace(',', ''))\n",
    "display(capacidad_endeudamiento)"
   ]
  },
  {
   "cell_type": "code",
   "execution_count": 21,
   "id": "1eb91177-deb2-4747-8e5e-2845f4ad8a41",
   "metadata": {},
   "outputs": [
    {
     "data": {
      "text/plain": [
       "1"
      ]
     },
     "metadata": {},
     "output_type": "display_data"
    }
   ],
   "source": [
    "pos_cod_conc = texto.find('CódConc')\n",
    "grado = int(texto[pos_grado + 8: pos_cod_conc - 4])\n",
    "display(grado)"
   ]
  },
  {
   "cell_type": "code",
   "execution_count": 22,
   "id": "2b2e5ef4-c326-4ca9-9dcb-f3b1302bc637",
   "metadata": {},
   "outputs": [
    {
     "data": {
      "text/plain": [
       "'Mi Banquito 1 – 141414141 – Tipo: Corriente'"
      ]
     },
     "metadata": {},
     "output_type": "display_data"
    }
   ],
   "source": [
    "pos_banco = texto.find('Banco')\n",
    "pos_neto_pagar = texto.find('Neto a Pagar')\n",
    "cadena_banco = texto[pos_banco + 7: pos_neto_pagar - 4]\n",
    "display(cadena_banco)"
   ]
  },
  {
   "cell_type": "code",
   "execution_count": 23,
   "id": "d21f75df-21df-43e5-b7c2-19032d9c89a2",
   "metadata": {},
   "outputs": [
    {
     "data": {
      "text/plain": [
       "['Mi Banquito 1', '141414141', 'Tipo: Corriente']"
      ]
     },
     "metadata": {},
     "output_type": "display_data"
    }
   ],
   "source": [
    "lista_banco = cadena_banco.split(\" – \")\n",
    "display(lista_banco)"
   ]
  },
  {
   "cell_type": "code",
   "execution_count": 24,
   "id": "0b7c6fe1-1c8a-407b-9c36-49a04be8d784",
   "metadata": {},
   "outputs": [
    {
     "data": {
      "text/plain": [
       "'Mi Banquito 1'"
      ]
     },
     "metadata": {},
     "output_type": "display_data"
    }
   ],
   "source": [
    "banco = lista_banco[0]\n",
    "display(banco)"
   ]
  },
  {
   "cell_type": "code",
   "execution_count": 25,
   "id": "42a105ba-7cc7-4ef1-84e1-dacf4c700df6",
   "metadata": {},
   "outputs": [
    {
     "data": {
      "text/plain": [
       "141414141"
      ]
     },
     "metadata": {},
     "output_type": "display_data"
    }
   ],
   "source": [
    "cuenta_bancaria = int(lista_banco[1])\n",
    "display(cuenta_bancaria)"
   ]
  },
  {
   "cell_type": "code",
   "execution_count": 26,
   "id": "c3a04c19-2363-468f-a7cb-7c02ebee6a9a",
   "metadata": {},
   "outputs": [
    {
     "data": {
      "text/plain": [
       "'Corriente'"
      ]
     },
     "metadata": {},
     "output_type": "display_data"
    }
   ],
   "source": [
    "tipo_cuenta = lista_banco[2][6:]\n",
    "display(tipo_cuenta)"
   ]
  },
  {
   "cell_type": "code",
   "execution_count": 27,
   "id": "5be1c924-073f-4aab-b9ae-45913c043446",
   "metadata": {},
   "outputs": [
    {
     "data": {
      "text/plain": [
       "2230000.0"
      ]
     },
     "metadata": {},
     "output_type": "display_data"
    }
   ],
   "source": [
    "pos_neto_pagar = texto.find('Neto')\n",
    "neto_pagar = float(texto[pos_neto_pagar + 15: len(texto) - 6].replace(',', '')) # Elimina las comas\n",
    "display(neto_pagar)"
   ]
  },
  {
   "cell_type": "code",
   "execution_count": 28,
   "id": "5fd0dcee-84fd-4e35-beba-da3fcfe3132d",
   "metadata": {},
   "outputs": [
    {
     "data": {
      "text/plain": [
       "{'Periodo_de_Pago': '01-Nov-23  a  30-Nov-23',\n",
       " 'Año': 2023,\n",
       " 'Mes': 'Nov',\n",
       " 'Num_Doc_Empleado': 10000004,\n",
       " 'Nombre_Empleado': 'Dennis Albaca',\n",
       " 'Ciudad': 'Cali',\n",
       " 'Dependencia': 'Tecnología',\n",
       " 'Sede': 'Sede Norte',\n",
       " 'Cargo_Empleado': 'Ingeniero',\n",
       " 'Contrato': '05-2021',\n",
       " 'Area': 'Desarrollo',\n",
       " 'Grado': 1,\n",
       " 'Ingresos': 2000000,\n",
       " 'Capacidad_Endeudamiento': 500000,\n",
       " 'Banco': 'Mi Banquito 1',\n",
       " 'Tipo_Cuenta': 'Corriente',\n",
       " 'Numero_Cuenta': 141414141,\n",
       " 'Neto_Pagar': 2230000.0}"
      ]
     },
     "metadata": {},
     "output_type": "display_data"
    }
   ],
   "source": [
    "dic_desprendible = {\n",
    "    'Periodo_de_Pago': cadena_periodo_pago,\n",
    "    'Año': anio_periodo_pago,\n",
    "    'Mes': mes_periodo_pago,\n",
    "    'Num_Doc_Empleado': num_doc,\n",
    "    'Nombre_Empleado': nombre_empleado,\n",
    "    'Ciudad': ciudad,\n",
    "    'Dependencia': dependencia,\n",
    "    'Sede': sede,\n",
    "    'Cargo_Empleado': cargo_empleado,\n",
    "    'Contrato': num_contrato,\n",
    "    'Area': area,\n",
    "    'Grado': grado,\n",
    "    'Ingresos': ingresos,\n",
    "    'Capacidad_Endeudamiento': capacidad_endeudamiento,\n",
    "    'Banco': banco,\n",
    "    'Tipo_Cuenta': tipo_cuenta,\n",
    "    'Numero_Cuenta': cuenta_bancaria,\n",
    "    'Neto_Pagar': neto_pagar\n",
    "}\n",
    "display(dic_desprendible)"
   ]
  },
  {
   "cell_type": "code",
   "execution_count": 29,
   "id": "316d5558-fc73-4282-9bd0-6a271a13efde",
   "metadata": {},
   "outputs": [
    {
     "data": {
      "text/plain": [
       "'COD1 \\nCONCEPTO NO. 1 \\n \\n \\n100,000.00 \\n \\nCOD2 \\nCONCEPTO NO. 2 \\n \\n \\n300,000.00 \\n \\nCOD3 \\nCONCEPTO NO. 3 \\n \\n \\n2,000,000.00 \\n \\nCOD5 \\nCONCEPTO NO. 5 \\n \\n \\n \\n20,000.00 \\nCOD6 \\nCONCEPTO NO. 6 \\n \\n \\n \\n10,000.00 \\nCOD7 \\nCONCEPTO NO. 7 \\n \\n \\n \\n30,000.00 \\nCOD8 \\nCONCEPTO NO. 8 \\n \\n \\n \\n10,000.00 \\nCOD3 \\nCONCEPTO NO. 3 \\n \\n \\n \\n100,000.00'"
      ]
     },
     "metadata": {},
     "output_type": "display_data"
    }
   ],
   "source": [
    "pos_egresos = texto.find(\"Egresos\")\n",
    "pos_totales = texto.find(\"Totales\")\n",
    "cadena_conceptos_valores = texto[pos_egresos + 9: pos_totales - 2]\n",
    "display(cadena_conceptos_valores)"
   ]
  },
  {
   "cell_type": "code",
   "execution_count": 30,
   "id": "07d9c24a-3f86-46f7-9d52-02e44df41be4",
   "metadata": {},
   "outputs": [
    {
     "data": {
      "text/plain": [
       "'COD1 \\nCONCEPTO NO. 1 \\n100,000.00 \\nCOD2 \\nCONCEPTO NO. 2 \\n300,000.00 \\nCOD3 \\nCONCEPTO NO. 3 \\n2,000,000.00 \\nCOD5 \\nCONCEPTO NO. 5 \\n20,000.00 \\nCOD6 \\nCONCEPTO NO. 6 \\n10,000.00 \\nCOD7 \\nCONCEPTO NO. 7 \\n30,000.00 \\nCOD8 \\nCONCEPTO NO. 8 \\n10,000.00 \\nCOD3 \\nCONCEPTO NO. 3 \\n100,000.00'"
      ]
     },
     "metadata": {},
     "output_type": "display_data"
    }
   ],
   "source": [
    "cadena_conceptos_valores = re.sub(r'\\n(\\s*\\n)+', '\\n', cadena_conceptos_valores) # la expresión regular busca patrones en los que haya uno o más saltos de línea seguidos por cero o más caracteres de espacio en blanco.\n",
    "display(cadena_conceptos_valores)"
   ]
  },
  {
   "cell_type": "code",
   "execution_count": 31,
   "id": "3fd4a022-bee0-442e-90a0-6746ed51d2d3",
   "metadata": {},
   "outputs": [
    {
     "data": {
      "text/plain": [
       "['COD1',\n",
       " 'CONCEPTO NO. 1',\n",
       " '100,000.00',\n",
       " 'COD2',\n",
       " 'CONCEPTO NO. 2',\n",
       " '300,000.00',\n",
       " 'COD3',\n",
       " 'CONCEPTO NO. 3',\n",
       " '2,000,000.00',\n",
       " 'COD5',\n",
       " 'CONCEPTO NO. 5',\n",
       " '20,000.00',\n",
       " 'COD6',\n",
       " 'CONCEPTO NO. 6',\n",
       " '10,000.00',\n",
       " 'COD7',\n",
       " 'CONCEPTO NO. 7',\n",
       " '30,000.00',\n",
       " 'COD8',\n",
       " 'CONCEPTO NO. 8',\n",
       " '10,000.00',\n",
       " 'COD3',\n",
       " 'CONCEPTO NO. 3',\n",
       " '100,000.00']"
      ]
     },
     "metadata": {},
     "output_type": "display_data"
    }
   ],
   "source": [
    "lista_conceptos_valores = cadena_conceptos_valores.split(' \\n')\n",
    "display(lista_conceptos_valores)"
   ]
  },
  {
   "cell_type": "markdown",
   "id": "5465573e-e9c5-4805-b394-ddb3f243eea1",
   "metadata": {},
   "source": [
    "## La siguiente celda fue agregada y la celda inmediantamente enseguida, fue modificada en comparación con el notebook PoC-2"
   ]
  },
  {
   "cell_type": "code",
   "execution_count": 32,
   "id": "a8127289-42d0-4471-bd71-a19a460b7a77",
   "metadata": {},
   "outputs": [],
   "source": [
    "# Tiene dos conceptos diefrenciadores\n",
    "if 'COD4' in lista_conceptos_valores:\n",
    "    concepto_diferenciador = 'COD4'\n",
    "elif 'COD3' in lista_conceptos_valores:\n",
    "    concepto_diferenciador = 'COD3'"
   ]
  },
  {
   "cell_type": "code",
   "execution_count": 33,
   "id": "194f06cb-e2cf-46f6-b8b5-446cede28919",
   "metadata": {},
   "outputs": [
    {
     "data": {
      "text/plain": [
       "6"
      ]
     },
     "metadata": {},
     "output_type": "display_data"
    }
   ],
   "source": [
    "# El concepto_diferenciador es el último código con Ingersos, después están los códigos con Egresos\n",
    "pos_concepto_diferenciador = lista_conceptos_valores.index(concepto_diferenciador)\n",
    "display(pos_concepto_diferenciador)"
   ]
  },
  {
   "cell_type": "code",
   "execution_count": 34,
   "id": "36ae7094-6829-4871-8773-d36a04f3b2e0",
   "metadata": {},
   "outputs": [
    {
     "data": {
      "text/plain": [
       "{'Periodo_de_Pago': '01-Nov-23  a  30-Nov-23',\n",
       " 'Año': 2023,\n",
       " 'Mes': 'Nov',\n",
       " 'Num_Doc_Empleado': 10000004,\n",
       " 'Nombre_Empleado': 'Dennis Albaca',\n",
       " 'Ciudad': 'Cali',\n",
       " 'Dependencia': 'Tecnología',\n",
       " 'Sede': 'Sede Norte',\n",
       " 'Cargo_Empleado': 'Ingeniero',\n",
       " 'Contrato': '05-2021',\n",
       " 'Area': 'Desarrollo',\n",
       " 'Grado': 1,\n",
       " 'Ingresos': 2000000,\n",
       " 'Capacidad_Endeudamiento': 500000,\n",
       " 'Banco': 'Mi Banquito 1',\n",
       " 'Tipo_Cuenta': 'Corriente',\n",
       " 'Numero_Cuenta': 141414141,\n",
       " 'Neto_Pagar': 2230000.0,\n",
       " 'COD1': 100000.0,\n",
       " 'COD2': 300000.0,\n",
       " 'COD3': 1900000.0,\n",
       " 'COD5': -20000.0,\n",
       " 'COD6': -10000.0,\n",
       " 'COD7': -30000.0,\n",
       " 'COD8': -10000.0}"
      ]
     },
     "metadata": {},
     "output_type": "display_data"
    }
   ],
   "source": [
    "dic_conceptos_valores = {}\n",
    "\n",
    "# Crea un diccionario con los códigos y valores, el cual se adiciona al diccionario anterior.\n",
    "# Los valores se suman o se restan, pero en caso de un código que sea ingreso y egreso, el valor se\n",
    "# resta y se mantiene en una sola columna\n",
    "for pos_dato in range(0, len(lista_conceptos_valores), 3):\n",
    "    codigo_concepto = lista_conceptos_valores[pos_dato]\n",
    "    #nombre_concepto = lista[pos_dato + 1]\n",
    "    valor_concepto = float(lista_conceptos_valores[pos_dato + 2].replace(',', ''))\n",
    "\n",
    "    if pos_dato <= pos_concepto_diferenciador:\n",
    "        dic_conceptos_valores[codigo_concepto] = valor_concepto + dic_conceptos_valores.get(codigo_concepto, 0)\n",
    "    else:\n",
    "        dic_conceptos_valores[codigo_concepto] = (valor_concepto * -1) + dic_conceptos_valores.get(codigo_concepto, 0)\n",
    "\n",
    "    dic_desprendible |= dic_conceptos_valores   #dic_desprendible.update(dic_conceptos_valores)\n",
    "    #display(dic_conceptos_valores)\n",
    "display(dic_desprendible)"
   ]
  },
  {
   "cell_type": "code",
   "execution_count": 35,
   "id": "11d82daf-211f-4e87-bae7-78b0fcb12095",
   "metadata": {},
   "outputs": [
    {
     "data": {
      "text/html": [
       "<div>\n",
       "<style scoped>\n",
       "    .dataframe tbody tr th:only-of-type {\n",
       "        vertical-align: middle;\n",
       "    }\n",
       "\n",
       "    .dataframe tbody tr th {\n",
       "        vertical-align: top;\n",
       "    }\n",
       "\n",
       "    .dataframe thead th {\n",
       "        text-align: right;\n",
       "    }\n",
       "</style>\n",
       "<table border=\"1\" class=\"dataframe\">\n",
       "  <thead>\n",
       "    <tr style=\"text-align: right;\">\n",
       "      <th></th>\n",
       "      <th>Periodo_de_Pago</th>\n",
       "      <th>Año</th>\n",
       "      <th>Mes</th>\n",
       "      <th>Num_Doc_Empleado</th>\n",
       "      <th>Nombre_Empleado</th>\n",
       "      <th>Ciudad</th>\n",
       "      <th>Dependencia</th>\n",
       "      <th>Sede</th>\n",
       "      <th>Cargo_Empleado</th>\n",
       "      <th>Contrato</th>\n",
       "      <th>...</th>\n",
       "      <th>Tipo_Cuenta</th>\n",
       "      <th>Numero_Cuenta</th>\n",
       "      <th>Neto_Pagar</th>\n",
       "      <th>COD1</th>\n",
       "      <th>COD2</th>\n",
       "      <th>COD3</th>\n",
       "      <th>COD5</th>\n",
       "      <th>COD6</th>\n",
       "      <th>COD7</th>\n",
       "      <th>COD8</th>\n",
       "    </tr>\n",
       "  </thead>\n",
       "  <tbody>\n",
       "    <tr>\n",
       "      <th>0</th>\n",
       "      <td>01-Nov-23  a  30-Nov-23</td>\n",
       "      <td>2023</td>\n",
       "      <td>Nov</td>\n",
       "      <td>10000004</td>\n",
       "      <td>Dennis Albaca</td>\n",
       "      <td>Cali</td>\n",
       "      <td>Tecnología</td>\n",
       "      <td>Sede Norte</td>\n",
       "      <td>Ingeniero</td>\n",
       "      <td>05-2021</td>\n",
       "      <td>...</td>\n",
       "      <td>Corriente</td>\n",
       "      <td>141414141</td>\n",
       "      <td>2230000.0</td>\n",
       "      <td>100000.0</td>\n",
       "      <td>300000.0</td>\n",
       "      <td>1900000.0</td>\n",
       "      <td>-20000.0</td>\n",
       "      <td>-10000.0</td>\n",
       "      <td>-30000.0</td>\n",
       "      <td>-10000.0</td>\n",
       "    </tr>\n",
       "  </tbody>\n",
       "</table>\n",
       "<p>1 rows × 25 columns</p>\n",
       "</div>"
      ],
      "text/plain": [
       "           Periodo_de_Pago   Año  Mes  Num_Doc_Empleado Nombre_Empleado  \\\n",
       "0  01-Nov-23  a  30-Nov-23  2023  Nov          10000004   Dennis Albaca   \n",
       "\n",
       "  Ciudad Dependencia        Sede Cargo_Empleado Contrato  ... Tipo_Cuenta  \\\n",
       "0   Cali  Tecnología  Sede Norte      Ingeniero  05-2021  ...   Corriente   \n",
       "\n",
       "   Numero_Cuenta  Neto_Pagar      COD1      COD2       COD3     COD5     COD6  \\\n",
       "0      141414141   2230000.0  100000.0  300000.0  1900000.0 -20000.0 -10000.0   \n",
       "\n",
       "      COD7     COD8  \n",
       "0 -30000.0 -10000.0  \n",
       "\n",
       "[1 rows x 25 columns]"
      ]
     },
     "metadata": {},
     "output_type": "display_data"
    }
   ],
   "source": [
    "df_desprendible = pd.DataFrame.from_dict([dic_desprendible])\n",
    "display(df_desprendible)"
   ]
  },
  {
   "cell_type": "code",
   "execution_count": 36,
   "id": "10067dee-f026-4381-8d43-89b503dcc186",
   "metadata": {},
   "outputs": [
    {
     "data": {
      "text/html": [
       "<div>\n",
       "<style scoped>\n",
       "    .dataframe tbody tr th:only-of-type {\n",
       "        vertical-align: middle;\n",
       "    }\n",
       "\n",
       "    .dataframe tbody tr th {\n",
       "        vertical-align: top;\n",
       "    }\n",
       "\n",
       "    .dataframe thead th {\n",
       "        text-align: right;\n",
       "    }\n",
       "</style>\n",
       "<table border=\"1\" class=\"dataframe\">\n",
       "  <thead>\n",
       "    <tr style=\"text-align: right;\">\n",
       "      <th></th>\n",
       "      <th>Periodo_de_Pago</th>\n",
       "      <th>Año</th>\n",
       "      <th>Mes</th>\n",
       "      <th>Num_Doc_Empleado</th>\n",
       "      <th>Nombre_Empleado</th>\n",
       "      <th>Ciudad</th>\n",
       "      <th>Dependencia</th>\n",
       "      <th>Sede</th>\n",
       "      <th>Cargo_Empleado</th>\n",
       "      <th>Contrato</th>\n",
       "      <th>...</th>\n",
       "      <th>Neto_Pagar</th>\n",
       "      <th>COD1</th>\n",
       "      <th>COD2</th>\n",
       "      <th>COD3</th>\n",
       "      <th>COD5</th>\n",
       "      <th>COD6</th>\n",
       "      <th>COD7</th>\n",
       "      <th>COD8</th>\n",
       "      <th>Valor_Pagar_Calculado</th>\n",
       "      <th>Comprobacion</th>\n",
       "    </tr>\n",
       "  </thead>\n",
       "  <tbody>\n",
       "    <tr>\n",
       "      <th>0</th>\n",
       "      <td>01-Nov-23  a  30-Nov-23</td>\n",
       "      <td>2023</td>\n",
       "      <td>Nov</td>\n",
       "      <td>10000004</td>\n",
       "      <td>Dennis Albaca</td>\n",
       "      <td>Cali</td>\n",
       "      <td>Tecnología</td>\n",
       "      <td>Sede Norte</td>\n",
       "      <td>Ingeniero</td>\n",
       "      <td>05-2021</td>\n",
       "      <td>...</td>\n",
       "      <td>2230000.0</td>\n",
       "      <td>100000.0</td>\n",
       "      <td>300000.0</td>\n",
       "      <td>1900000.0</td>\n",
       "      <td>-20000.0</td>\n",
       "      <td>-10000.0</td>\n",
       "      <td>-30000.0</td>\n",
       "      <td>-10000.0</td>\n",
       "      <td>2230000.0</td>\n",
       "      <td>Correcto</td>\n",
       "    </tr>\n",
       "  </tbody>\n",
       "</table>\n",
       "<p>1 rows × 27 columns</p>\n",
       "</div>"
      ],
      "text/plain": [
       "           Periodo_de_Pago   Año  Mes  Num_Doc_Empleado Nombre_Empleado  \\\n",
       "0  01-Nov-23  a  30-Nov-23  2023  Nov          10000004   Dennis Albaca   \n",
       "\n",
       "  Ciudad Dependencia        Sede Cargo_Empleado Contrato  ... Neto_Pagar  \\\n",
       "0   Cali  Tecnología  Sede Norte      Ingeniero  05-2021  ...  2230000.0   \n",
       "\n",
       "       COD1      COD2       COD3     COD5     COD6     COD7     COD8  \\\n",
       "0  100000.0  300000.0  1900000.0 -20000.0 -10000.0 -30000.0 -10000.0   \n",
       "\n",
       "   Valor_Pagar_Calculado  Comprobacion  \n",
       "0              2230000.0      Correcto  \n",
       "\n",
       "[1 rows x 27 columns]"
      ]
     },
     "metadata": {},
     "output_type": "display_data"
    }
   ],
   "source": [
    "# Crea una columna que suma todos los valores de los conceptos de la fila y luego la compara con el \n",
    "# valor extraido del desprendible, generando una columna de comprobación que indica si los valores \n",
    "# coinciden, indicando Correcto, en caso contrario Error\n",
    "columna_inicial_concepto = df_desprendible.columns.get_loc('Neto_Pagar') + 1\n",
    "columna_final_concepto = df_desprendible.shape[1]\n",
    "columnas_conceptos = df_desprendible.iloc[:, columna_inicial_concepto: columna_final_concepto]\n",
    "df_desprendible['Valor_Pagar_Calculado'] = columnas_conceptos.sum(axis=1)\n",
    "df_desprendible['Comprobacion'] = np.where(df_desprendible['Neto_Pagar'] == df_desprendible['Valor_Pagar_Calculado'], 'Correcto', 'Error')\n",
    "display(df_desprendible)"
   ]
  }
 ],
 "metadata": {
  "kernelspec": {
   "display_name": "Python 3 (ipykernel)",
   "language": "python",
   "name": "python3"
  },
  "language_info": {
   "codemirror_mode": {
    "name": "ipython",
    "version": 3
   },
   "file_extension": ".py",
   "mimetype": "text/x-python",
   "name": "python",
   "nbconvert_exporter": "python",
   "pygments_lexer": "ipython3",
   "version": "3.11.6"
  }
 },
 "nbformat": 4,
 "nbformat_minor": 5
}
